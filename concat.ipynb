{
 "cells": [
  {
   "cell_type": "code",
   "execution_count": 1,
   "id": "41f9123e-e75c-4a25-bfea-97b5e7e397ff",
   "metadata": {},
   "outputs": [],
   "source": [
    "import pandas as pd"
   ]
  },
  {
   "cell_type": "code",
   "execution_count": 5,
   "id": "ef4752b4-19a6-4281-b7a2-700e8876cdc6",
   "metadata": {},
   "outputs": [],
   "source": [
    "from pathlib import Path"
   ]
  },
  {
   "cell_type": "code",
   "execution_count": 6,
   "id": "ef0210f1-d4a6-4099-b445-1064dd4a6828",
   "metadata": {},
   "outputs": [],
   "source": [
    "import concurrent.futures"
   ]
  },
  {
   "cell_type": "code",
   "execution_count": 18,
   "id": "65ccc043-8015-4e85-bdad-f849792d7770",
   "metadata": {},
   "outputs": [],
   "source": [
    "import datetime as dt"
   ]
  },
  {
   "cell_type": "code",
   "execution_count": 15,
   "id": "6f6e5fe4-72a3-4ceb-9faf-849416a136ca",
   "metadata": {},
   "outputs": [],
   "source": [
    "blife_directory_path = './blife_mx_facts_2024/'"
   ]
  },
  {
   "cell_type": "code",
   "execution_count": 9,
   "id": "a1ddd485-d115-4741-846c-f85358886269",
   "metadata": {},
   "outputs": [],
   "source": [
    "column_name = 'stock'"
   ]
  },
  {
   "cell_type": "code",
   "execution_count": 12,
   "id": "c5f3ad28-2386-47bb-89ea-b5e52ea66f88",
   "metadata": {},
   "outputs": [],
   "source": [
    "def process_files_in_directory(directory):\n",
    "    dir_path = Path(directory)\n",
    "    if not dir_path.is_dir():\n",
    "        raise ValueError(f'{directory} is not a valid directory')\n",
    "\n",
    "    files = [f for f in dir_path.iterdir() if f.is_file() and f.suffix == '.csv']\n",
    "    results = []\n",
    "    for file in files:\n",
    "        try:\n",
    "            df = pd.read_csv(file)\n",
    "            if column_name in df.columns:\n",
    "                df[column_name] = 0\n",
    "\n",
    "            results.append(df)\n",
    "        except Exception as e:\n",
    "            print(f'Failed to process {file.name}: {e}')\n",
    "            continue\n",
    "    concatenated_df = pd.concat(results, ignore_index=True)\n",
    "    return concatenated_df"
   ]
  },
  {
   "cell_type": "code",
   "execution_count": 16,
   "id": "66467c6b-7f8f-4195-9fea-369311581a58",
   "metadata": {},
   "outputs": [],
   "source": [
    "results_blife = process_files_in_directory(directory_path)"
   ]
  },
  {
   "cell_type": "code",
   "execution_count": null,
   "id": "47fd76b6-c36c-4c44-9e1d-2c4038342ebe",
   "metadata": {},
   "outputs": [],
   "source": [
    "results_blife"
   ]
  },
  {
   "cell_type": "code",
   "execution_count": 19,
   "id": "4c10210b-02e2-4e78-bf55-040b9b5c970f",
   "metadata": {},
   "outputs": [],
   "source": [
    "today = dt.datetime.now()"
   ]
  },
  {
   "cell_type": "code",
   "execution_count": 30,
   "id": "ec0b8135-7c9b-4510-88f1-e797141b2d9d",
   "metadata": {},
   "outputs": [],
   "source": [
    "results_blife.to_csv(f\"facts_63e67592114e916bb68ef5c0_{today.strftime('%Y')}.csv\", index=False)"
   ]
  },
  {
   "cell_type": "code",
   "execution_count": 21,
   "id": "e78196a5-4789-490a-9174-540500a73d29",
   "metadata": {},
   "outputs": [],
   "source": [
    "amazon_directory_path = './amazon_facts_2024/'"
   ]
  },
  {
   "cell_type": "code",
   "execution_count": 22,
   "id": "0d0d6577-c431-4bfe-ae7a-a76b8ecacba1",
   "metadata": {},
   "outputs": [],
   "source": [
    "results_amazon = process_files_in_directory(amazon_directory_path)"
   ]
  },
  {
   "cell_type": "code",
   "execution_count": null,
   "id": "4c29a452-b61a-4e40-a936-7ff170682e15",
   "metadata": {},
   "outputs": [],
   "source": [
    "results_amazon"
   ]
  },
  {
   "cell_type": "code",
   "execution_count": 31,
   "id": "8630540d-25bb-44dd-b84f-1e63292cff36",
   "metadata": {},
   "outputs": [],
   "source": [
    "results_amazon.to_csv(f\"facts_65a5552620beba30249f8bf1_{today.strftime('%Y')}.csv\", index=False)"
   ]
  },
  {
   "cell_type": "code",
   "execution_count": 26,
   "id": "c4309491-d1e0-4385-a106-71c959c1c492",
   "metadata": {},
   "outputs": [],
   "source": [
    "meli_directory_path = './meli_facts_2024/'"
   ]
  },
  {
   "cell_type": "code",
   "execution_count": 27,
   "id": "5586fb1b-872f-4cb6-a2a0-a339ea0a6781",
   "metadata": {},
   "outputs": [],
   "source": [
    "results_meli = process_files_in_directory(meli_directory_path)"
   ]
  },
  {
   "cell_type": "code",
   "execution_count": null,
   "id": "618a45ad-b932-4205-b2c3-df17bc0054e0",
   "metadata": {},
   "outputs": [],
   "source": [
    "results_meli"
   ]
  },
  {
   "cell_type": "code",
   "execution_count": 32,
   "id": "7da04e31-c6f8-4462-a569-b6f8bd9d03bf",
   "metadata": {},
   "outputs": [],
   "source": [
    "results_meli.to_csv(f\"facts_64add3ff1b5379b44480f345_{today.strftime('%Y')}.csv\", index=False)"
   ]
  },
  {
   "cell_type": "code",
   "execution_count": null,
   "id": "80017ac2-3378-42e6-8dc6-4b93ea174774",
   "metadata": {},
   "outputs": [],
   "source": []
  }
 ],
 "metadata": {
  "kernelspec": {
   "display_name": "Python 3 (ipykernel)",
   "language": "python",
   "name": "python3"
  },
  "language_info": {
   "codemirror_mode": {
    "name": "ipython",
    "version": 3
   },
   "file_extension": ".py",
   "mimetype": "text/x-python",
   "name": "python",
   "nbconvert_exporter": "python",
   "pygments_lexer": "ipython3",
   "version": "3.10.15"
  }
 },
 "nbformat": 4,
 "nbformat_minor": 5
}
